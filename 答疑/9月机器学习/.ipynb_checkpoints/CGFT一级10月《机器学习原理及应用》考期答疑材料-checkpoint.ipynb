{
 "cells": [
  {
   "cell_type": "markdown",
   "id": "034a3911-f0d2-4144-8bc6-0e3968319cd2",
   "metadata": {
    "user_expressions": []
   },
   "source": [
    "# 《机器学习原理及应用》答疑材料"
   ]
  },
  {
   "cell_type": "markdown",
   "id": "e6660c40-6307-4527-80c8-1c00123ec4cf",
   "metadata": {
    "user_expressions": []
   },
   "source": [
    "![](封面.png)"
   ]
  },
  {
   "cell_type": "markdown",
   "id": "d85383dc-896e-4ffe-a932-1e8c99ae8d9e",
   "metadata": {
    "user_expressions": []
   },
   "source": [
    "- 时间：9月26日 19:00\n",
    "- 答疑人：李一繁"
   ]
  },
  {
   "cell_type": "markdown",
   "id": "b16f895c-1591-4d64-83ab-472fd47a4392",
   "metadata": {
    "user_expressions": []
   },
   "source": [
    "# 机器学习"
   ]
  },
  {
   "cell_type": "code",
   "execution_count": 82,
   "id": "5fdad22b-be9b-4320-93fd-a745aa78ca3f",
   "metadata": {},
   "outputs": [],
   "source": [
    "import numpy as np\n",
    "import pandas as pd\n",
    "import matplotlib.pyplot as plt"
   ]
  },
  {
   "cell_type": "markdown",
   "id": "89d967c1-bb5e-47c6-855b-44a24a027fea",
   "metadata": {
    "user_expressions": []
   },
   "source": [
    "## 决策树"
   ]
  },
  {
   "cell_type": "markdown",
   "id": "d6c15ee3-ac10-4fb8-af56-41457f99ba67",
   "metadata": {
    "user_expressions": []
   },
   "source": [
    "我的理解：决策树利用信息论来更科学的写if else"
   ]
  },
  {
   "cell_type": "markdown",
   "id": "bdc33fc4-1d6c-46f2-854b-16a16cdc4bbd",
   "metadata": {
    "user_expressions": []
   },
   "source": [
    "### 熵的计算"
   ]
  },
  {
   "cell_type": "markdown",
   "id": "3f954223-c140-4d24-b2e8-7e3e55357cda",
   "metadata": {
    "user_expressions": []
   },
   "source": [
    "entropy = $-\\sum_{i=1}^np_ilogp_i$  "
   ]
  },
  {
   "cell_type": "markdown",
   "id": "0787702c-f3bd-4ff8-a191-ec1e7238c20f",
   "metadata": {
    "user_expressions": []
   },
   "source": [
    "- 选择：总共有三类，概率（频率）分别是0、0.5、0.5, 计算熵的结果是：\n",
    "- 选项：负无穷\t1\t-1\t正无穷\n",
    "- 答案：1\n",
    "- 解析：-(0\\*LOG2(0,2)+0.5\\*LOG2(0.5,2)+0.5\\*LOG2(0.5,2))=1"
   ]
  },
  {
   "cell_type": "code",
   "execution_count": 112,
   "id": "9e0d902e-33e5-47c5-bd51-ac89a9a70cce",
   "metadata": {},
   "outputs": [
    {
     "data": {
      "text/plain": [
       "1.0"
      ]
     },
     "execution_count": 112,
     "metadata": {},
     "output_type": "execute_result"
    }
   ],
   "source": [
    "- (0 * np.log2(1e12) + 0.5 * np.log2(0.5) + 0.5 * np.log2(0.5))"
   ]
  },
  {
   "cell_type": "markdown",
   "id": "ff23e826-ddfc-4759-b531-c0093a07214a",
   "metadata": {
    "user_expressions": []
   },
   "source": [
    "### 熵和基尼系数"
   ]
  },
  {
   "cell_type": "markdown",
   "id": "ebe55a4a-6af2-48a4-b74c-918c0e32a90a",
   "metadata": {
    "user_expressions": []
   },
   "source": [
    "- 判断：熵因为要做“对数”计算，计算复杂性比基尼系数略为增加（）。\n",
    "- 答案：对\n",
    "- 解析：基尼系数是二次计算，比log更加简单，总体表现也近似，可以作为熵的近似替代"
   ]
  },
  {
   "cell_type": "markdown",
   "id": "488bd250-d70b-4da7-8794-f13cb7ad2da8",
   "metadata": {
    "user_expressions": []
   },
   "source": [
    "entropy = $-\\sum_{i=1}^np_ilogp_i$  \n",
    "gini = $1 - \\sum_{k=1}^Kp_k^2$"
   ]
  },
  {
   "cell_type": "code",
   "execution_count": 87,
   "id": "0368c208-185a-4c8e-86ec-cb7276a2ab9a",
   "metadata": {},
   "outputs": [
    {
     "name": "stderr",
     "output_type": "stream",
     "text": [
      "C:\\Users\\lyf\\AppData\\Local\\Temp/ipykernel_19988/1135140476.py:2: RuntimeWarning: divide by zero encountered in log2\n",
      "  entropy =  - (np.log2(x_arr) * x_arr + np.log2(1 - x_arr) * (1 - x_arr)) / 2\n",
      "C:\\Users\\lyf\\AppData\\Local\\Temp/ipykernel_19988/1135140476.py:2: RuntimeWarning: invalid value encountered in multiply\n",
      "  entropy =  - (np.log2(x_arr) * x_arr + np.log2(1 - x_arr) * (1 - x_arr)) / 2\n"
     ]
    }
   ],
   "source": [
    "x_arr = np.arange(0, 1, 0.01)\n",
    "entropy =  - (np.log2(x_arr) * x_arr + np.log2(1 - x_arr) * (1 - x_arr)) / 2\n",
    "gini =  1 - (x_arr ** 2 + (1 - x_arr) ** 2)"
   ]
  },
  {
   "cell_type": "code",
   "execution_count": 90,
   "id": "7c58c36f-6c03-4303-a3dd-5f53d805332b",
   "metadata": {},
   "outputs": [
    {
     "data": {
      "text/plain": [
       "<matplotlib.legend.Legend at 0x24aaec34b80>"
      ]
     },
     "execution_count": 90,
     "metadata": {},
     "output_type": "execute_result"
    },
    {
     "data": {
      "image/png": "[encoded data removed]",
      "text/plain": [
       "<Figure size 432x288 with 1 Axes>"
      ]
     },
     "metadata": {
      "needs_background": "light"
     },
     "output_type": "display_data"
    }
   ],
   "source": [
    "plt.plot(x_arr, entropy, label='half entropy')\n",
    "plt.plot(x_arr, gini, label='gini')\n",
    "plt.legend()"
   ]
  },
  {
   "cell_type": "markdown",
   "id": "d69a4af0-bf93-43b8-b61e-0f28d7a86f0a",
   "metadata": {
    "user_expressions": []
   },
   "source": [
    "### 决策树指标"
   ]
  },
  {
   "cell_type": "markdown",
   "id": "399e97cd-e077-4c6a-a4f1-3e10a4a78eba",
   "metadata": {
    "user_expressions": []
   },
   "source": [
    "- 判断：Python scikit-learn 包里的决策树模型，可以选择“gini”（基尼）, 或者“entropy”（熵）作为分叉计算的方法，默认是“gini”（）。\n",
    "- 答案：对\n",
    "- 解析：熟悉包的使用"
   ]
  },
  {
   "cell_type": "code",
   "execution_count": 107,
   "id": "7f479de0-9889-48d8-b341-e3fe1e5d0c89",
   "metadata": {},
   "outputs": [],
   "source": [
    "from sklearn import tree"
   ]
  },
  {
   "cell_type": "code",
   "execution_count": 108,
   "id": "5056128f-1446-4057-912f-e47697dd52d7",
   "metadata": {},
   "outputs": [],
   "source": [
    "# sklearn中的决策树有分割的配置，默认是best\n",
    "clf = tree.DecisionTreeClassifier(criterion='gini')"
   ]
  },
  {
   "cell_type": "markdown",
   "id": "1ae03de4-1970-4472-8812-913d3ab60d1f",
   "metadata": {
    "user_expressions": []
   },
   "source": [
    "- splitter : {\"best\", \"random\"}, default=\"best\"\n",
    "    The strategy used to choose the split at each node. Supported\n",
    "    strategies are \"best\" to choose the best split and \"random\" to choose\n",
    "    the best random split."
   ]
  },
  {
   "cell_type": "markdown",
   "id": "b7e76236-e9e6-4c3f-b07d-01d37bae66d8",
   "metadata": {
    "user_expressions": []
   },
   "source": [
    "### 决策树随机数"
   ]
  },
  {
   "cell_type": "markdown",
   "id": "b1ecd4f4-f52b-4d26-9014-333684244cea",
   "metadata": {
    "user_expressions": []
   },
   "source": [
    "- 选择： Python scikit-learn 包里的决策树模型，random_state 为了在拟合过程中获得确定性行为，random_state必须固定为：\n",
    "- 选项： 0\t1\t一个确定的整数\t任意浮点数\n",
    "- 答案：一个确定的整数\n",
    "- 解析：对所有有随机性的算法，sklearn都是这样设定随机数的"
   ]
  },
  {
   "cell_type": "code",
   "execution_count": 107,
   "id": "aa3fbaa9-b6d2-470e-9aca-e334242b8651",
   "metadata": {},
   "outputs": [],
   "source": [
    "from sklearn import tree"
   ]
  },
  {
   "cell_type": "code",
   "execution_count": 119,
   "id": "1c791d50-9515-4d33-916f-ede3dad4fe04",
   "metadata": {},
   "outputs": [],
   "source": [
    "# 需要注意的是如果splitter设置为Best，其随机数就没有意义，因为会每次找最大的信息增益特征\n",
    "# 并且需要将最大特征数设置的少于建模的特征数，比如原本10个特征，现在随机选出5个后再计算信息增益\n",
    "clf = tree.DecisionTreeClassifier(splitter='best',\n",
    "                                  random_state=0,\n",
    "                                  max_features=10)"
   ]
  },
  {
   "cell_type": "markdown",
   "id": "e665e000-02f0-430d-b09b-dcdd56aacf15",
   "metadata": {
    "user_expressions": []
   },
   "source": [
    "- random_state : int, RandomState instance or None, default=None\n",
    "    Controls the randomness of the estimator. The features are always\n",
    "    randomly permuted at each split, even if ``splitter`` is set to\n",
    "    ``\"best\"``. When ``max_features < n_features``, the algorithm will\n",
    "    select ``max_features`` at random at each split before finding the best\n",
    "    split among them. But the best found split may vary across different\n",
    "    runs, even if ``max_features=n_features``. That is the case, if the\n",
    "    improvement of the criterion is identical for several splits and one\n",
    "    split has to be selected at random. To obtain a deterministic behaviour\n",
    "    during fitting, ``random_state`` has to be fixed to an integer.\n",
    "    See :term:`Glossary <random_state>` for details.\n",
    "- max_features : int, float or {\"auto\", \"sqrt\", \"log2\"}, default=None\n",
    "    The number of features to consider when looking for the best split:\n",
    "\n",
    "        - If int, then consider `max_features` features at each split.\n",
    "        - If float, then `max_features` is a fraction and\n",
    "          `int(max_features * n_features)` features are considered at each\n",
    "          split.\n",
    "        - If \"auto\", then `max_features=sqrt(n_features)`.\n",
    "        - If \"sqrt\", then `max_features=sqrt(n_features)`.\n",
    "        - If \"log2\", then `max_features=log2(n_features)`.\n",
    "        - If None, then `max_features=n_features`."
   ]
  },
  {
   "cell_type": "markdown",
   "id": "f630d1e4-bb72-40b9-9bfe-c7862d4f75d6",
   "metadata": {
    "user_expressions": []
   },
   "source": [
    "### 决策树分叉"
   ]
  },
  {
   "cell_type": "markdown",
   "id": "7b7d11ba-7811-462f-a148-5c2ebff7b56b",
   "metadata": {
    "user_expressions": []
   },
   "source": [
    "- 判断：选择决策数节点的分叉特征时，先计算各个分支的基尼系数，然后加权使得总的基尼系数，使得基尼系数最低特征作为分叉特征（）。\n",
    "- 答案：对\n",
    "- 解析：分叉后基尼系数越低，意味着选择它来分叉获得的信息量越大，也即你找到了关键变量"
   ]
  },
  {
   "cell_type": "markdown",
   "id": "577a324c-fcc4-410f-9636-061aaee81eb4",
   "metadata": {
    "user_expressions": []
   },
   "source": [
    "![](信息熵的计算过程.png)"
   ]
  },
  {
   "cell_type": "code",
   "execution_count": 71,
   "id": "201303e2-0c7d-46c5-9054-001ad9b9224c",
   "metadata": {},
   "outputs": [],
   "source": [
    "from sklearn import tree\n",
    "from sklearn.datasets import load_iris"
   ]
  },
  {
   "cell_type": "code",
   "execution_count": 93,
   "id": "cc2dabd2-a91a-4e15-a2ed-535fd53d02ab",
   "metadata": {},
   "outputs": [
    {
     "data": {
      "text/plain": [
       "DecisionTreeClassifier()"
      ]
     },
     "execution_count": 93,
     "metadata": {},
     "output_type": "execute_result"
    }
   ],
   "source": [
    "iris = load_iris()\n",
    "# sklearn中的决策树有分割的配置，默认是best\n",
    "clf = tree.DecisionTreeClassifier(criterion='gini',\n",
    "                                  splitter='best')\n",
    "clf.fit(iris.data, iris.target)"
   ]
  },
  {
   "cell_type": "markdown",
   "id": "baa95f39-89ec-46b5-9c65-7203618e0071",
   "metadata": {
    "user_expressions": []
   },
   "source": [
    "- sepal length (cm)：花萼长度(厘米)\n",
    "- sepal width (cm)：花萼宽度(厘米)\n",
    "- petal length (cm)：花瓣长度(厘米)\n",
    "- petal width (cm)：花瓣宽度(厘米)"
   ]
  },
  {
   "cell_type": "code",
   "execution_count": 94,
   "id": "b82f88a7-945b-4dbe-85e2-3d5eb5a79cf9",
   "metadata": {},
   "outputs": [
    {
     "data": {
      "text/plain": [
       "array(['setosa', 'versicolor', 'virginica'], dtype='<U10')"
      ]
     },
     "execution_count": 94,
     "metadata": {},
     "output_type": "execute_result"
    }
   ],
   "source": [
    "iris.target_names"
   ]
  },
  {
   "cell_type": "code",
   "execution_count": 106,
   "id": "e37387a4-5d52-4354-b43d-7e5e22db5c20",
   "metadata": {},
   "outputs": [
    {
     "data": {
      "image/png": "[encoded data removed]",
      "text/plain": [
       "<Figure size 864x576 with 1 Axes>"
      ]
     },
     "metadata": {
      "needs_background": "light"
     },
     "output_type": "display_data"
    }
   ],
   "source": [
    "plt.figure(figsize=(12,8))\n",
    "tree.plot_tree(clf,\n",
    "               max_depth=2,\n",
    "               feature_names=iris.feature_names,\n",
    "               class_names=iris.target_names,\n",
    "               filled=True, \n",
    "               rounded=True)\n",
    "plt.show()"
   ]
  },
  {
   "cell_type": "markdown",
   "id": "2a4d8988-15e9-4b5e-9766-607e68ef05f5",
   "metadata": {
    "user_expressions": []
   },
   "source": [
    "### 决策树和回归树"
   ]
  },
  {
   "cell_type": "markdown",
   "id": "a746131d-6236-4328-9756-addd4519f677",
   "metadata": {
    "user_expressions": []
   },
   "source": [
    "- 选择：关于波士顿房价数据集，以下哪些是正确的：（）。\n",
    "- 选项：\n",
    "    - A 预测目标是房价，可以用决策树来进行分类\t\n",
    "    - B 预测目标是房价，可以用回归树来进行预测\t\n",
    "    - C 有些特征是不连续的，不能计算方差，需要在回归树中剔除\t\n",
    "    - D 有些特征是不连续的，不能计算方差，需要用到基尼系数或者熵来分叉\n",
    "- 答案：B\n",
    "- 解析：决定使用回归还是决策树和标签有关，和特征无关"
   ]
  },
  {
   "cell_type": "code",
   "execution_count": 96,
   "id": "c7d2a1c2-713f-490a-b131-212b2e9654ac",
   "metadata": {},
   "outputs": [],
   "source": [
    "from sklearn import tree\n",
    "from sklearn.datasets import load_boston"
   ]
  },
  {
   "cell_type": "code",
   "execution_count": 98,
   "id": "d28b18fc-be95-4531-bdb2-645c93a0586a",
   "metadata": {},
   "outputs": [
    {
     "data": {
      "text/plain": [
       "DecisionTreeRegressor()"
      ]
     },
     "execution_count": 98,
     "metadata": {},
     "output_type": "execute_result"
    }
   ],
   "source": [
    "boston = load_boston()\n",
    "reg = tree.DecisionTreeRegressor(criterion='mse',\n",
    "                                  splitter='best')\n",
    "reg.fit(boston.data, boston.target)"
   ]
  },
  {
   "cell_type": "code",
   "execution_count": 104,
   "id": "850128b6-95aa-486f-8bb6-dba5661e2ff2",
   "metadata": {},
   "outputs": [
    {
     "data": {
      "image/png": "[encoded data removed]",
      "text/plain": [
       "<Figure size 864x576 with 1 Axes>"
      ]
     },
     "metadata": {
      "needs_background": "light"
     },
     "output_type": "display_data"
    }
   ],
   "source": [
    "plt.figure(figsize=(12,8))\n",
    "# 回归树使用value作为label了\n",
    "tree.plot_tree(reg,\n",
    "               max_depth=2,\n",
    "               feature_names=boston.feature_names,\n",
    "               filled=True, \n",
    "               rounded=True)\n",
    "plt.show()"
   ]
  },
  {
   "cell_type": "markdown",
   "id": "49e126d0-1122-4bc4-9224-84544a597c17",
   "metadata": {
    "user_expressions": []
   },
   "source": [
    "## 集成学习"
   ]
  },
  {
   "cell_type": "markdown",
   "id": "5e85a5a3-7f39-467c-a64e-1d4e32d2127a",
   "metadata": {
    "user_expressions": []
   },
   "source": [
    "### 基学习器"
   ]
  },
  {
   "cell_type": "markdown",
   "id": "96936679-a18e-416c-9ddb-2c77c0be510f",
   "metadata": {
    "user_expressions": []
   },
   "source": [
    "- 判断：Gradient boosting提升算法使用残差训练每个后续模型，在这些模型集合中，每个模型都比较强\n",
    "- 答案：错\n",
    "- 解析：模型可以弱"
   ]
  },
  {
   "cell_type": "markdown",
   "id": "249510a9-86f2-4d2e-a045-2ae55115210d",
   "metadata": {
    "user_expressions": []
   },
   "source": [
    "![](集成学习.png)"
   ]
  },
  {
   "cell_type": "markdown",
   "id": "85fe6a0c-879e-476c-aeb5-cc4937d1599b",
   "metadata": {
    "user_expressions": []
   },
   "source": [
    "### bagging和boosting"
   ]
  },
  {
   "cell_type": "markdown",
   "id": "6db852be-1275-49db-961f-d861af7ffb0a",
   "metadata": {
    "user_expressions": []
   },
   "source": [
    "- 选择：关于 随机森林（Random Forest） 和 梯度提升树（Gradient Boosting Trees）：（）。\n",
    "- 选项：\n",
    "    - A 随机森林中的各个子树是相互独立的\t\n",
    "    - B 梯度提升树各个子树是相互独立的\t\n",
    "    - C 对于任何数据，梯度提升树的预测效果总是优于随机森林\t\n",
    "- 答案：A\n",
    "- 解析：bagging方法是独立，boosting是串行的，有的数据集可能随机森林更好"
   ]
  },
  {
   "cell_type": "markdown",
   "id": "6b2a601d-294e-45bb-ab2b-67047601f817",
   "metadata": {
    "user_expressions": []
   },
   "source": [
    "## 广义线性回归"
   ]
  },
  {
   "cell_type": "markdown",
   "id": "dd1a5078-afe6-4676-a8ba-c944e1578c01",
   "metadata": {
    "user_expressions": []
   },
   "source": [
    "### 线性回归求解"
   ]
  },
  {
   "cell_type": "markdown",
   "id": "66c797d2-41cd-4621-9374-3f110e34e816",
   "metadata": {
    "user_expressions": []
   },
   "source": [
    "- 判断：线性回归模型用均方误差最小化和用最大似然估计得到的参数在独立正态分布的假设下是相同的（）。\n",
    "- 答案：对\n",
    "- 解析：两个求解结果相同，可以参考：均方误差与极大似然估计 - 天长水远的文章 - 知乎 https://zhuanlan.zhihu.com/p/559700942"
   ]
  },
  {
   "cell_type": "markdown",
   "id": "aa4e0968-636f-4bad-8f24-8d4aa5d590ad",
   "metadata": {
    "user_expressions": []
   },
   "source": [
    "### 逻辑回归求解"
   ]
  },
  {
   "cell_type": "markdown",
   "id": "ffabb0c5-d302-42b9-bdf0-6c6418ab3211",
   "metadata": {
    "user_expressions": []
   },
   "source": [
    "- 选择：逻辑回归模型是通过\n",
    "- 选项：\n",
    "    - A 把类似于非线性回归的一个非线性方程式，用 sigmod 函数变换成类似于概率的数值，根据概率来做分类判断。\t\n",
    "    - B 把类似于线性回归的一个线性方程式，用 Logit 函数变换成类似于概率的数值，根据概率来做分类判断。\t\n",
    "    - C 把类似于线性回归的一个线性方程式，用 sigmod 函数变换成类似于概率的数值，根据概率来做回归分析。\t\n",
    "    - D 把类似于线性回归的一个线性方程式，用 sigmod 函数变换成类似于概率的数值，根据概率来做分类判断。\n",
    "- 答案：D\n",
    "- 解析：逻辑回归是分类而不是回归，logit函数是odds比率"
   ]
  },
  {
   "cell_type": "markdown",
   "id": "1abc26bf-db10-4089-a2dd-18dc0a3b3e06",
   "metadata": {
    "user_expressions": []
   },
   "source": [
    "![](逻辑回归定义域.png)"
   ]
  },
  {
   "cell_type": "markdown",
   "id": "5ddebc27-b110-41ec-9e42-243157413859",
   "metadata": {
    "user_expressions": []
   },
   "source": [
    "![](逻辑回归联结函数.png)"
   ]
  },
  {
   "cell_type": "markdown",
   "id": "713e0e1f-5580-43fc-9f3b-b40157c2ee3e",
   "metadata": {
    "user_expressions": []
   },
   "source": [
    "### 逻辑回归多分类"
   ]
  },
  {
   "cell_type": "markdown",
   "id": "f3ca194e-b1d1-4c22-bef7-152742bea18e",
   "metadata": {
    "user_expressions": []
   },
   "source": [
    "- 多选：如下哪些陈述是对的：\n",
    "- 选项：\n",
    "    - A 逻辑回归模型可以通过多个二分类做多余二类的分类问题\t\n",
    "    - B 逻辑回归中的分割边界是线性的\t\n",
    "    - C 朴素高斯贝叶斯模型各特征之间的相关性为0，它的分割边界是线性的\t\n",
    "    - D 逻辑回归中的sigma的函数是一个非线性函数，它的分割边界是非线性的\n",
    "- 答案：A/B\n",
    "- 解析：线性分割！ One-VS-Rest二分类"
   ]
  },
  {
   "cell_type": "markdown",
   "id": "4ddbd94e-921e-4209-8a11-10842f66560b",
   "metadata": {
    "user_expressions": []
   },
   "source": [
    "![](多分类问题.png)"
   ]
  },
  {
   "cell_type": "markdown",
   "id": "b84ce63d-ef40-408d-b40d-efad7e5eebe8",
   "metadata": {
    "user_expressions": []
   },
   "source": [
    "## 聚类问题"
   ]
  },
  {
   "cell_type": "markdown",
   "id": "efc3d7e2-19af-4dba-8bef-5ca220ce8397",
   "metadata": {
    "user_expressions": []
   },
   "source": [
    "### 聚类分析"
   ]
  },
  {
   "cell_type": "markdown",
   "id": "97f7dbbf-d9d8-47f9-b72c-4f1066de55fa",
   "metadata": {
    "user_expressions": []
   },
   "source": [
    "- 选择：通过聚类分析可以进行（）。\n",
    "- 选项：通常分析\t分类分析\t异常探测\t通常探测\n",
    "- 答案：异常探测\n",
    "- 解析：找出特殊的群体"
   ]
  },
  {
   "cell_type": "markdown",
   "id": "06b86e8a-08e3-4d47-8469-d0355c7822fa",
   "metadata": {
    "user_expressions": []
   },
   "source": [
    "### 聚类过程"
   ]
  },
  {
   "cell_type": "markdown",
   "id": "3b7296e7-5645-4c63-967f-53425ab2904b",
   "metadata": {
    "user_expressions": []
   },
   "source": [
    "- 选择：K-means用来解决这个问题的方法也叫做期望最大化算法 (Expectation-Maximization， EM)，（）。\n",
    "- 选项：\n",
    "    - A E-step计算每个簇的质心, M-step是将数据点分配给最近的集群\t\n",
    "    - B E-step是初始化质心, M-step是计算数据点和所有质心之间的平均距离\t\n",
    "    - C E-step是将数据点分配给最近的集群, M-step计算每个簇的质心\t\n",
    "    - D E-step是将数据点分配给最近的集群, M-step是计算数据点和所有质心之间的平均距离\n",
    "- 答案：C\n",
    "- 解析：了解其过程"
   ]
  },
  {
   "cell_type": "markdown",
   "id": "9a1794b9-9536-4287-a85b-fe9c17783c5e",
   "metadata": {
    "user_expressions": []
   },
   "source": [
    "![](聚类过程.png)"
   ]
  },
  {
   "cell_type": "markdown",
   "id": "3ae38767-a841-4c4b-91dc-cdffb33352dd",
   "metadata": {
    "user_expressions": []
   },
   "source": [
    "- 上图a表达了初始的数据集，假设k=2。\n",
    "- 在图b中，我们随机选择了两个k类所对应的类别质心，即图中的红色质心和蓝色质心，然后分别求样本中所有点到这两个质心的距离，并标记每个样本的类别为和该样本距离最小的质心的类别\n",
    "- 如图c所示，经过计算样本和红色质心和蓝色质心的距离，我们得到了所有样本点的第一轮迭代后的类别。此时我们对我们当前标记为红色和蓝色的点分别求其新的质心\n",
    "- 如图d所示，新的红色质心和蓝色质心的位置已经发生了变动\n",
    "- 图e和图f重复了我们在图c和图d的过程，即将所有点的类别标记为距离最近的质心的类别并求新的质心。最终我们得到的两个类别如图f。"
   ]
  },
  {
   "cell_type": "markdown",
   "id": "466a9750-9c18-4f4a-bf28-8953d891b7a4",
   "metadata": {
    "user_expressions": []
   },
   "source": [
    "参考：刘建平-K-Means聚类算法原理 https://www.cnblogs.com/pinard/p/6164214.html"
   ]
  },
  {
   "cell_type": "markdown",
   "id": "828892af-c7e8-4d0a-8738-a5a69369d8f9",
   "metadata": {
    "user_expressions": []
   },
   "source": [
    "### 集群交易"
   ]
  },
  {
   "cell_type": "markdown",
   "id": "c5990bca-bbe6-4ddb-8df6-7459bdb96656",
   "metadata": {
    "user_expressions": []
   },
   "source": [
    "- 选择：投资者可以利用聚类分析来发展一种集群交易方法, 可以达到的目的不包括:（）。\n",
    "- 选项：集中投资\t分散投资\t减小下行损失\t在不增加总风险的情况下进行风险较高的交易\n",
    "- 答案：集中投资\n",
    "- 解析：肯定是为了避免集中投资"
   ]
  },
  {
   "cell_type": "markdown",
   "id": "8ded0c43-8891-4329-b742-a8eb3be29a76",
   "metadata": {
    "user_expressions": []
   },
   "source": [
    "# 深度学习"
   ]
  },
  {
   "cell_type": "markdown",
   "id": "f1cdf4bb-c13e-45cd-b4fe-f85b84cff822",
   "metadata": {
    "user_expressions": []
   },
   "source": [
    "## 基础神经网络"
   ]
  },
  {
   "cell_type": "markdown",
   "id": "9629e4ed-12a5-4855-a307-79841af023fb",
   "metadata": {
    "user_expressions": []
   },
   "source": [
    "### 基础结构"
   ]
  },
  {
   "cell_type": "markdown",
   "id": "a1644d2b-2ed0-4ec4-91a7-ea5e649920e3",
   "metadata": {
    "user_expressions": []
   },
   "source": [
    "- 多选：人工神经网络图示往往用圆圈和线来表示，其中：（）。\n",
    "- 选项：\n",
    "    - A 圆圈代表节点，线代表连接\t\n",
    "    - B 圆圈代表连接，线代表向量\t\n",
    "    - C 圆圈代表神经单元，线代表权重\t\n",
    "    - D 圆圈代表卷积运算，线代表线性运算\n",
    "- 答案：A/C\n",
    "- 解析：基础"
   ]
  },
  {
   "cell_type": "markdown",
   "id": "2441bb9c-67f3-4c6b-9f84-1dbae2f1f08f",
   "metadata": {
    "user_expressions": []
   },
   "source": [
    "![](神经网络基础.png)"
   ]
  },
  {
   "cell_type": "markdown",
   "id": "ef3e85c0-eb56-4f0c-92a6-47f582d182bd",
   "metadata": {
    "user_expressions": []
   },
   "source": [
    "### 激活函数"
   ]
  },
  {
   "cell_type": "markdown",
   "id": "725a1509-bb73-4de1-bc37-57e311c30165",
   "metadata": {
    "user_expressions": []
   },
   "source": [
    "- 多选：关于激活函数在多层神经网络叠加后的效果：（）。\n",
    "- 选项：\n",
    "    - A 线性激活函数将输出线性激活，多层叠加以后可以组合成非线性函数\t\t\n",
    "    - B RELU激活函数是线性函数，线性叠加以后还是线性的\t\n",
    "    - C RELU激活函数多层叠加以后可以组合成复杂的非线性函数\n",
    "    - D 线性激活函数将输出线性激活-不管添加了多少隐藏层，线性叠加以后还是线性的\n",
    "- 答案：C/D\n",
    "- 解析：基础"
   ]
  },
  {
   "cell_type": "markdown",
   "id": "5c04c35d-db54-4491-ae67-0e46c0a54a1d",
   "metadata": {
    "user_expressions": []
   },
   "source": [
    "![](激活函数.png)"
   ]
  },
  {
   "cell_type": "markdown",
   "id": "5c328651-fb61-4e8e-a593-b8fbf9858fd5",
   "metadata": {
    "user_expressions": []
   },
   "source": [
    "### 反向传播"
   ]
  },
  {
   "cell_type": "markdown",
   "id": "013c485b-2e4e-474d-812b-8d953e2ee5f3",
   "metadata": {
    "user_expressions": []
   },
   "source": [
    "- 多选：反向传播计算的效率高是因为:（）。\n",
    "- 选项：\n",
    "    - A 在根据链式法则和反向传播方式计算导数时，后面层计算出的导数，都会被前面一层计算导数时用上\t\n",
    "    - B 每部分的计算都是乘法和求和，都可以换成向量和矩阵计算，也就是可以并行计算\t\n",
    "    - C 反向传播时计算的 a 和 z 被正向传播时不同训练样本反复使用, 避免了重复计算\t\n",
    "    - D 常用的激活函数像sigmoid, tanh, 以及RELU, 它们的导数都很简单 \n",
    "- 答案：A/B/D\n",
    "- 解析：基础"
   ]
  },
  {
   "cell_type": "markdown",
   "id": "3bea3686-d3af-465a-a4cd-36c2e3c93cb9",
   "metadata": {
    "user_expressions": []
   },
   "source": [
    "![](反向传播.png)"
   ]
  },
  {
   "cell_type": "markdown",
   "id": "64d12cd8-5f0f-44fc-8e20-14aaafec4b8a",
   "metadata": {},
   "source": [
    "## 卷积神经网络"
   ]
  },
  {
   "cell_type": "markdown",
   "id": "499cf821-69bc-4f7c-849f-946d4386e4a6",
   "metadata": {
    "user_expressions": []
   },
   "source": [
    "### 特征图"
   ]
  },
  {
   "cell_type": "markdown",
   "id": "d3258444-09bc-4ce4-8c6d-b236bfbb5303",
   "metadata": {
    "user_expressions": []
   },
   "source": [
    "- 选择：一个特征图输入到一卷积层，卷积层用了N个卷积核，总共会输出（）。\n",
    "- 选项：N个特征图\tN\\*N个特征图\tN/2个特征图\tN\\*2个特征图\n",
    "- 答案：N个特征图\n",
    "- 解析：N个特征图"
   ]
  },
  {
   "cell_type": "markdown",
   "id": "5ca2fc77-c24f-4a61-9d71-7d57559cd70d",
   "metadata": {
    "user_expressions": []
   },
   "source": [
    "![](卷积核.png)"
   ]
  },
  {
   "cell_type": "markdown",
   "id": "d265f930-0636-49db-a47d-72435f777af4",
   "metadata": {
    "user_expressions": []
   },
   "source": [
    "## 循环神经网络"
   ]
  },
  {
   "cell_type": "markdown",
   "id": "708259da-8d56-442f-90a8-e13d69d969f3",
   "metadata": {
    "user_expressions": []
   },
   "source": [
    "### RNN"
   ]
  },
  {
   "cell_type": "markdown",
   "id": "c3a127c8-ce86-46a6-9510-268fa3cfc577",
   "metadata": {
    "user_expressions": []
   },
   "source": [
    "- 判断：循环神经网络（Recurrent Neural Network , RNN）是一种试图对依赖时间或序列的行为（如语言、股票价格、电力需求等）进行建模的神经网络（）。\n",
    "- 答案：对\n",
    "- 解析：常识"
   ]
  },
  {
   "cell_type": "markdown",
   "id": "4594b9ca-ffba-4161-ba5c-1f577fd3b90f",
   "metadata": {
    "user_expressions": []
   },
   "source": [
    "![](RNN.png)"
   ]
  },
  {
   "cell_type": "markdown",
   "id": "132a6fa9-b23d-45d3-973a-75b5ac048b16",
   "metadata": {
    "user_expressions": []
   },
   "source": [
    "### LSTM"
   ]
  },
  {
   "cell_type": "markdown",
   "id": "b8f162be-115d-45a8-a85a-20fac4c706c7",
   "metadata": {
    "user_expressions": []
   },
   "source": [
    "- 选择：一个特征图输入到一卷积层，卷积层用了N个卷积核，总共会输出（）。\n",
    "- 选项：\n",
    "    - 遗忘门、输入门、输出门\t\n",
    "    - 记忆门、信息门、舍弃门\t\n",
    "    - 长期门、短期门、循环门\t\n",
    "    - 开关门、决定门、通过门\n",
    "- 答案：遗忘门、输入门、输出门\n",
    "- 解析：记忆"
   ]
  },
  {
   "cell_type": "markdown",
   "id": "e5ab9787-8bd2-48eb-9113-16bb1d488de8",
   "metadata": {
    "user_expressions": []
   },
   "source": [
    "![](LSTM.png)"
   ]
  },
  {
   "cell_type": "markdown",
   "id": "a7a57a64-1ac8-4b52-bfe7-4a6527504d74",
   "metadata": {
    "user_expressions": []
   },
   "source": [
    "参考：LSTM模型与前向反向传播算法  https://www.cnblogs.com/pinard/p/6519110.html"
   ]
  },
  {
   "cell_type": "markdown",
   "id": "7e11537f-0723-4f57-a96f-41d2414cd035",
   "metadata": {
    "user_expressions": []
   },
   "source": [
    "# 资料推荐"
   ]
  },
  {
   "cell_type": "markdown",
   "id": "6f56a978-5fae-4197-8606-e8be640dc8d5",
   "metadata": {
    "user_expressions": []
   },
   "source": [
    "- 刘建平pinard：https://github.com/ljpzzz/machinelearning\n",
    "- 个人B站：AFAN的费曼生活 https://www.bilibili.com/video/BV1B44y1P7Je/"
   ]
  }
 ],
 "metadata": {
  "kernelspec": {
   "display_name": "Python 3 (ipykernel)",
   "language": "python",
   "name": "python3"
  },
  "language_info": {
   "codemirror_mode": {
    "name": "ipython",
    "version": 3
   },
   "file_extension": ".py",
   "mimetype": "text/x-python",
   "name": "python",
   "nbconvert_exporter": "python",
   "pygments_lexer": "ipython3",
   "version": "3.9.7"
  },
  "toc-autonumbering": true
 },
 "nbformat": 4,
 "nbformat_minor": 5
}
