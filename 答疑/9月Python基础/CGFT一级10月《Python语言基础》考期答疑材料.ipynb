{
 "cells": [
  {
   "cell_type": "markdown",
   "id": "034a3911-f0d2-4144-8bc6-0e3968319cd2",
   "metadata": {
    "user_expressions": []
   },
   "source": [
    "# CGFT一级10月《Python语言基础》考期答疑材料"
   ]
  },
  {
   "cell_type": "markdown",
   "id": "e6660c40-6307-4527-80c8-1c00123ec4cf",
   "metadata": {
    "user_expressions": []
   },
   "source": [
    "![](封面.png)"
   ]
  },
  {
   "cell_type": "raw",
   "id": "26a9247c-b14f-4082-9912-911e02e833a9",
   "metadata": {},
   "source": [
    "时间：9月5日 19:00-20:00\n",
    "答疑人：李一繁"
   ]
  },
  {
   "cell_type": "markdown",
   "id": "27d86ad7-118c-47b4-ab89-3d6fd8d5c365",
   "metadata": {
    "user_expressions": []
   },
   "source": [
    "# 基础问题"
   ]
  },
  {
   "cell_type": "markdown",
   "id": "4ab8b4ef-b291-4a86-bcac-b1ee9b22c9c3",
   "metadata": {
    "user_expressions": []
   },
   "source": [
    "## 命名问题"
   ]
  },
  {
   "cell_type": "raw",
   "id": "4bcedbca-0faa-4f3d-8e30-eea3957196a7",
   "metadata": {},
   "source": [
    "判断：在Python3中，变量名必须以字母或下划线开头，并且区分字母大小写\n",
    "答案：错误\n",
    "解析：中文也可以作为变量名"
   ]
  },
  {
   "cell_type": "code",
   "execution_count": 7,
   "id": "5911bb88-03ad-4bfb-adda-07c09fec34c2",
   "metadata": {},
   "outputs": [],
   "source": [
    "a = 1\n",
    "A = 2"
   ]
  },
  {
   "cell_type": "code",
   "execution_count": 8,
   "id": "0c8ef2ed-6c98-4e13-9f7c-f82663175463",
   "metadata": {},
   "outputs": [
    {
     "data": {
      "text/plain": [
       "(1, 2)"
      ]
     },
     "execution_count": 8,
     "metadata": {},
     "output_type": "execute_result"
    }
   ],
   "source": [
    "a, A"
   ]
  },
  {
   "cell_type": "code",
   "execution_count": 9,
   "id": "bf0d8d22-1f28-4fc9-888b-94eaf2b8307a",
   "metadata": {},
   "outputs": [],
   "source": [
    "_a = 1"
   ]
  },
  {
   "cell_type": "code",
   "execution_count": 11,
   "id": "be663cf4-23c3-4bdc-a9b0-fb53d61e2ada",
   "metadata": {},
   "outputs": [
    {
     "ename": "SyntaxError",
     "evalue": "invalid syntax (Temp/ipykernel_140392/1364191551.py, line 1)",
     "output_type": "error",
     "traceback": [
      "\u001b[1;36m  File \u001b[1;32m\"C:\\Users\\lyf\\AppData\\Local\\Temp/ipykernel_140392/1364191551.py\"\u001b[1;36m, line \u001b[1;32m1\u001b[0m\n\u001b[1;33m    1a = 1\u001b[0m\n\u001b[1;37m     ^\u001b[0m\n\u001b[1;31mSyntaxError\u001b[0m\u001b[1;31m:\u001b[0m invalid syntax\n"
     ]
    }
   ],
   "source": [
    "1a = 1"
   ]
  },
  {
   "cell_type": "code",
   "execution_count": 12,
   "id": "ee4fca63-54a7-453a-a805-6539da827647",
   "metadata": {},
   "outputs": [],
   "source": [
    "a1 = 1"
   ]
  },
  {
   "cell_type": "code",
   "execution_count": 13,
   "id": "8d420883-f7c5-41f3-ae46-e942e47d9afb",
   "metadata": {},
   "outputs": [],
   "source": [
    "变量a = 3"
   ]
  },
  {
   "cell_type": "code",
   "execution_count": 14,
   "id": "9da3de25-f20c-491f-ae15-9ad9bf17d7d6",
   "metadata": {},
   "outputs": [
    {
     "data": {
      "text/plain": [
       "3"
      ]
     },
     "execution_count": 14,
     "metadata": {},
     "output_type": "execute_result"
    }
   ],
   "source": [
    "变量a"
   ]
  },
  {
   "cell_type": "markdown",
   "id": "5ce9a56b-77a9-44b3-b834-d6a9e3d85bdc",
   "metadata": {
    "user_expressions": []
   },
   "source": [
    "## 注释问题"
   ]
  },
  {
   "cell_type": "raw",
   "id": "0b0fd96f-9532-43be-b2d2-0c465aa23d71",
   "metadata": {},
   "source": [
    "判断：Python 代码的注释只有一种方式，那就是使用#符号。（）\n",
    "答案：错误\n",
    "解析：也可以用三引号，本质上这是把代码变成了字符串"
   ]
  },
  {
   "cell_type": "code",
   "execution_count": 15,
   "id": "58a0c153-4718-4478-be70-980e2f0cc511",
   "metadata": {},
   "outputs": [
    {
     "data": {
      "text/plain": [
       "1"
      ]
     },
     "execution_count": 15,
     "metadata": {},
     "output_type": "execute_result"
    }
   ],
   "source": [
    "# 这是一个注释\n",
    "1"
   ]
  },
  {
   "cell_type": "code",
   "execution_count": 16,
   "id": "c7004779-4c56-47ec-abad-b67b5f1df037",
   "metadata": {},
   "outputs": [
    {
     "data": {
      "text/plain": [
       "' \\n这是一个多行注释\\n'"
      ]
     },
     "execution_count": 16,
     "metadata": {},
     "output_type": "execute_result"
    }
   ],
   "source": [
    "''' \n",
    "这是一个多行注释\n",
    "'''"
   ]
  },
  {
   "cell_type": "code",
   "execution_count": 18,
   "id": "b899d871-19f2-4320-945f-ddd5a357604b",
   "metadata": {},
   "outputs": [
    {
     "data": {
      "text/plain": [
       "1"
      ]
     },
     "execution_count": 18,
     "metadata": {},
     "output_type": "execute_result"
    }
   ],
   "source": [
    "\"\"\"\n",
    "这是一个注释\n",
    "\"\"\"\n",
    "1"
   ]
  },
  {
   "cell_type": "markdown",
   "id": "1fa007ee-8562-43bd-a6e5-e30494b3aa9e",
   "metadata": {
    "user_expressions": []
   },
   "source": [
    "## 变量类型"
   ]
  },
  {
   "cell_type": "raw",
   "id": "32dd636d-53fa-4f0f-a19a-dfdae278639a",
   "metadata": {},
   "source": [
    "单选题：Python 中，以下哪个变量的赋值是正确的？（）\n",
    "答案：a = 2\n",
    "解析：python变量不需要定义和声明，因为其没有限制，只是会在编译器上有提示"
   ]
  },
  {
   "cell_type": "code",
   "execution_count": 19,
   "id": "a5040c21-b242-48e3-901d-dce45ac57dbc",
   "metadata": {},
   "outputs": [
    {
     "ename": "SyntaxError",
     "evalue": "invalid syntax (Temp/ipykernel_140392/89439747.py, line 1)",
     "output_type": "error",
     "traceback": [
      "\u001b[1;36m  File \u001b[1;32m\"C:\\Users\\lyf\\AppData\\Local\\Temp/ipykernel_140392/89439747.py\"\u001b[1;36m, line \u001b[1;32m1\u001b[0m\n\u001b[1;33m    var a = 2\u001b[0m\n\u001b[1;37m        ^\u001b[0m\n\u001b[1;31mSyntaxError\u001b[0m\u001b[1;31m:\u001b[0m invalid syntax\n"
     ]
    }
   ],
   "source": [
    "var a = 2"
   ]
  },
  {
   "cell_type": "code",
   "execution_count": 20,
   "id": "8cb30996-44fd-49e7-859d-b02cf8a8cee8",
   "metadata": {},
   "outputs": [
    {
     "ename": "SyntaxError",
     "evalue": "invalid syntax (Temp/ipykernel_140392/2357313669.py, line 1)",
     "output_type": "error",
     "traceback": [
      "\u001b[1;36m  File \u001b[1;32m\"C:\\Users\\lyf\\AppData\\Local\\Temp/ipykernel_140392/2357313669.py\"\u001b[1;36m, line \u001b[1;32m1\u001b[0m\n\u001b[1;33m    int a = 2\u001b[0m\n\u001b[1;37m        ^\u001b[0m\n\u001b[1;31mSyntaxError\u001b[0m\u001b[1;31m:\u001b[0m invalid syntax\n"
     ]
    }
   ],
   "source": [
    "int a = 2"
   ]
  },
  {
   "cell_type": "code",
   "execution_count": 21,
   "id": "505d14ea-cd08-4b4e-9f38-45df4b285d43",
   "metadata": {},
   "outputs": [
    {
     "ename": "SyntaxError",
     "evalue": "invalid syntax (Temp/ipykernel_140392/2861680753.py, line 1)",
     "output_type": "error",
     "traceback": [
      "\u001b[1;36m  File \u001b[1;32m\"C:\\Users\\lyf\\AppData\\Local\\Temp/ipykernel_140392/2861680753.py\"\u001b[1;36m, line \u001b[1;32m1\u001b[0m\n\u001b[1;33m    variable a = 2\u001b[0m\n\u001b[1;37m             ^\u001b[0m\n\u001b[1;31mSyntaxError\u001b[0m\u001b[1;31m:\u001b[0m invalid syntax\n"
     ]
    }
   ],
   "source": [
    "variable a = 2"
   ]
  },
  {
   "cell_type": "code",
   "execution_count": 22,
   "id": "40b02087-133d-4d51-a300-7339cdb4987d",
   "metadata": {},
   "outputs": [],
   "source": [
    "a = 2"
   ]
  },
  {
   "cell_type": "code",
   "execution_count": 23,
   "id": "a87bd5db-81fd-4f9d-8a02-527f87a2096d",
   "metadata": {},
   "outputs": [
    {
     "data": {
      "text/plain": [
       "2"
      ]
     },
     "execution_count": 23,
     "metadata": {},
     "output_type": "execute_result"
    }
   ],
   "source": [
    "a"
   ]
  },
  {
   "cell_type": "code",
   "execution_count": 24,
   "id": "3e195054-ce12-4af5-a3b8-d06a1532c009",
   "metadata": {},
   "outputs": [],
   "source": [
    "a:int = 2"
   ]
  },
  {
   "cell_type": "code",
   "execution_count": 26,
   "id": "21a2184c-68df-4d9f-9a1a-e02058cdc57f",
   "metadata": {},
   "outputs": [],
   "source": [
    "a:str = 2"
   ]
  },
  {
   "cell_type": "markdown",
   "id": "043272f1-6422-43ea-8fae-8cbf2e36b424",
   "metadata": {
    "user_expressions": []
   },
   "source": [
    "## 导包方法"
   ]
  },
  {
   "cell_type": "raw",
   "id": "00220aa3-88d4-4916-9585-a9033164c92b",
   "metadata": {},
   "source": [
    "多选题：在使用pandas时需要如何导入？（）\n",
    "答案:import pandas as pd\n",
    "     import pandas\n",
    "解析：as为别名"
   ]
  },
  {
   "cell_type": "code",
   "execution_count": 27,
   "id": "6d5af2f5-ed2d-40cd-8ced-203a10e98407",
   "metadata": {},
   "outputs": [],
   "source": [
    "import pandas as pd"
   ]
  },
  {
   "cell_type": "code",
   "execution_count": 28,
   "id": "ded34013-722b-4afc-bc0a-fc74a44f1941",
   "metadata": {},
   "outputs": [],
   "source": [
    "import pandas"
   ]
  },
  {
   "cell_type": "raw",
   "id": "693f70e0-41ac-4a05-aac4-38c60ff91797",
   "metadata": {},
   "source": [
    "判断题：执行语句 from math import sin  之后，可以直接使用 sin()  函数，例如 sin(3)。\n",
    "答案:正确\n",
    "解析：from是指这个模块下还有其他对象，不仅仅是函数"
   ]
  },
  {
   "cell_type": "code",
   "execution_count": 29,
   "id": "859f3c84-3ce7-4e15-ab92-b05eebe35bd6",
   "metadata": {},
   "outputs": [],
   "source": [
    "from math import sin"
   ]
  },
  {
   "cell_type": "code",
   "execution_count": 31,
   "id": "1edadde1-7efa-485b-9b11-68015d51d00d",
   "metadata": {},
   "outputs": [],
   "source": [
    "from math import *"
   ]
  },
  {
   "cell_type": "code",
   "execution_count": 30,
   "id": "34dd3ca8-74c4-467e-9b59-8cfbe9238b9a",
   "metadata": {},
   "outputs": [
    {
     "data": {
      "text/plain": [
       "0.1411200080598672"
      ]
     },
     "execution_count": 30,
     "metadata": {},
     "output_type": "execute_result"
    }
   ],
   "source": [
    "sin(3)"
   ]
  },
  {
   "cell_type": "code",
   "execution_count": 32,
   "id": "dcd70b56-79ff-476a-bea2-02b132ac47fc",
   "metadata": {},
   "outputs": [
    {
     "data": {
      "text/plain": [
       "-0.9899924966004454"
      ]
     },
     "execution_count": 32,
     "metadata": {},
     "output_type": "execute_result"
    }
   ],
   "source": [
    "cos(3)"
   ]
  },
  {
   "cell_type": "raw",
   "id": "f82c5dfd-03e1-4753-9bef-a74de1d3b7e0",
   "metadata": {},
   "source": [
    "# 可以创建一个 test.py给学员展示\n",
    "cgft = '金融科技师权威认证'\n",
    "def cgft_fun(x):\n",
    "    print(x+1)"
   ]
  },
  {
   "cell_type": "code",
   "execution_count": 33,
   "id": "6765613b-86d2-4c87-b507-4bca8f7d1e94",
   "metadata": {},
   "outputs": [],
   "source": [
    "from test import *"
   ]
  },
  {
   "cell_type": "code",
   "execution_count": 34,
   "id": "0afa2c80-c816-4cf1-8645-94bbf8fdf3b8",
   "metadata": {},
   "outputs": [
    {
     "data": {
      "text/plain": [
       "'金融科技师权威认证'"
      ]
     },
     "execution_count": 34,
     "metadata": {},
     "output_type": "execute_result"
    }
   ],
   "source": [
    "cgft"
   ]
  },
  {
   "cell_type": "code",
   "execution_count": 35,
   "id": "3f297d9d-53cc-405a-8ad2-c44eb16e635a",
   "metadata": {},
   "outputs": [
    {
     "name": "stdout",
     "output_type": "stream",
     "text": [
      "2\n"
     ]
    }
   ],
   "source": [
    "cgft_fun(1)"
   ]
  },
  {
   "cell_type": "markdown",
   "id": "ca069233-1d5b-4274-ac2e-9c9d265dc619",
   "metadata": {
    "tags": [],
    "user_expressions": []
   },
   "source": [
    "## 随机数分布"
   ]
  },
  {
   "cell_type": "raw",
   "id": "7c97974f-291f-4b16-a782-7932deab99f6",
   "metadata": {},
   "source": [
    "判断：关于random.uniform(a,b)的作用描述，以下选项中正确的是（）。\n",
    "答案：生成一个[a, b]之间的随机小数\n",
    "解析：题目的选项还有正泰分布，考察开闭区间和随机数分布类型"
   ]
  },
  {
   "cell_type": "code",
   "execution_count": 36,
   "id": "de64841a-e888-4599-ae59-989aa8c543c6",
   "metadata": {},
   "outputs": [],
   "source": [
    "import random"
   ]
  },
  {
   "cell_type": "raw",
   "id": "8f9178d9-aee7-45ce-bd8a-73e5ecf6d410",
   "metadata": {},
   "source": [
    "Docstring: Get a random number in the range [a, b) or [a, b] depending on rounding."
   ]
  },
  {
   "cell_type": "code",
   "execution_count": 37,
   "id": "2da43893-6b4e-4392-83ba-a3bf024e0c0d",
   "metadata": {},
   "outputs": [
    {
     "data": {
      "text/plain": [
       "1.3749772498639516"
      ]
     },
     "execution_count": 37,
     "metadata": {},
     "output_type": "execute_result"
    }
   ],
   "source": [
    "random.uniform(1, 2)"
   ]
  },
  {
   "cell_type": "code",
   "execution_count": 38,
   "id": "c8ccf3d1-eed5-4edc-a8f9-c30868fbcc61",
   "metadata": {},
   "outputs": [],
   "source": [
    "import matplotlib.pyplot as plt"
   ]
  },
  {
   "cell_type": "code",
   "execution_count": 39,
   "id": "762370e6-faef-4727-91d8-226f098a17b9",
   "metadata": {},
   "outputs": [
    {
     "data": {
      "text/plain": [
       "(array([10102.,  9952., 10044.,  9982.,  9941.,  9961., 10044., 10024.,\n",
       "         9930., 10020.]),\n",
       " array([1.00003124, 1.10002743, 1.20002362, 1.30001981, 1.40001601,\n",
       "        1.5000122 , 1.60000839, 1.70000458, 1.80000078, 1.89999697,\n",
       "        1.99999316]),\n",
       " <BarContainer object of 10 artists>)"
      ]
     },
     "execution_count": 39,
     "metadata": {},
     "output_type": "execute_result"
    },
    {
     "data": {
      "image/png": "[encoded data removed]",
      "text/plain": [
       "<Figure size 432x288 with 1 Axes>"
      ]
     },
     "metadata": {
      "needs_background": "light"
     },
     "output_type": "display_data"
    }
   ],
   "source": [
    "ls = []\n",
    "for _ in range(100000):\n",
    "    ls.append(random.uniform(1, 2))\n",
    "plt.hist(ls)"
   ]
  },
  {
   "cell_type": "code",
   "execution_count": 40,
   "id": "8f075df6-8130-4dfd-b768-13ac131a708c",
   "metadata": {},
   "outputs": [
    {
     "data": {
      "text/plain": [
       "(array([4.0000e+01, 5.9100e+02, 4.8080e+03, 1.8281e+04, 3.3130e+04,\n",
       "        2.8667e+04, 1.1888e+04, 2.3620e+03, 2.1900e+02, 1.4000e+01]),\n",
       " array([-4.25099416, -3.36575257, -2.48051097, -1.59526938, -0.71002778,\n",
       "         0.17521381,  1.06045541,  1.945697  ,  2.8309386 ,  3.71618019,\n",
       "         4.60142178]),\n",
       " <BarContainer object of 10 artists>)"
      ]
     },
     "execution_count": 40,
     "metadata": {},
     "output_type": "execute_result"
    },
    {
     "data": {
      "image/png": "[encoded data removed]",
      "text/plain": [
       "<Figure size 432x288 with 1 Axes>"
      ]
     },
     "metadata": {
      "needs_background": "light"
     },
     "output_type": "display_data"
    }
   ],
   "source": [
    "ls = []\n",
    "for _ in range(100000):\n",
    "    ls.append(random.gauss(0, 1))\n",
    "plt.hist(ls)"
   ]
  },
  {
   "cell_type": "markdown",
   "id": "1b84bcd6-7813-4902-93ff-8710a3924f41",
   "metadata": {
    "user_expressions": []
   },
   "source": [
    "## 随机数采样"
   ]
  },
  {
   "cell_type": "raw",
   "id": "4dce4875-b714-4e45-84f1-9173877d414a",
   "metadata": {},
   "source": [
    "单选题：以下程序的不可能输出结果是：（）。\n",
    "    from random import *\n",
    "    print(sample({1,2,3,4,5},2))\n",
    "答案：[1, 2, 3]\n",
    "解析：采样的参数，注意对这个函数的其他考点，因为是无放回的所以不可能重复"
   ]
  },
  {
   "cell_type": "code",
   "execution_count": 41,
   "id": "7131b833-f35d-455e-a962-60d99a7f6548",
   "metadata": {},
   "outputs": [],
   "source": [
    "from random import *"
   ]
  },
  {
   "cell_type": "code",
   "execution_count": 43,
   "id": "76fe8b91-6ed8-425e-9a42-5e1f4d3e479f",
   "metadata": {},
   "outputs": [
    {
     "name": "stderr",
     "output_type": "stream",
     "text": [
      "C:\\Users\\lyf\\AppData\\Local\\Temp/ipykernel_140392/958388592.py:1: DeprecationWarning: Sampling from a set deprecated\n",
      "since Python 3.9 and will be removed in a subsequent version.\n",
      "  sample({1,2,3,4,5},2)\n"
     ]
    },
    {
     "data": {
      "text/plain": [
       "[5, 1]"
      ]
     },
     "execution_count": 43,
     "metadata": {},
     "output_type": "execute_result"
    }
   ],
   "source": [
    "sample({1,2,3,4,5},2)"
   ]
  },
  {
   "cell_type": "markdown",
   "id": "56d14908-c654-4591-b73a-b6ae0aa7b305",
   "metadata": {
    "user_expressions": []
   },
   "source": [
    "# 容器问题"
   ]
  },
  {
   "cell_type": "markdown",
   "id": "3db1c7e5-b2d8-4656-83c8-883759c0ee5d",
   "metadata": {
    "user_expressions": []
   },
   "source": [
    "## 列表地址"
   ]
  },
  {
   "cell_type": "raw",
   "id": "63279f9c-00e0-4f42-a79e-fbdd0502c34e",
   "metadata": {},
   "source": [
    "判断：已知列表 x = [1, 2, 3]，那么执行语句 x = 3 之后，变量 x 的地址不变。（）\n",
    "答案：错误\n",
    "解析：变量赋值变了，内存地址肯定也变了。这道题其实在设下一个陷阱，即如果改变列表内部的元素，列表的地址肯定会变，但是这里是全部换了，所以不可同日而语"
   ]
  },
  {
   "cell_type": "code",
   "execution_count": 44,
   "id": "825a360a-362e-4e5d-83b4-98334e52befc",
   "metadata": {},
   "outputs": [],
   "source": [
    "x = [1, 2, 3]"
   ]
  },
  {
   "cell_type": "code",
   "execution_count": 45,
   "id": "e74ece35-b245-45d1-83ba-d77860ca7782",
   "metadata": {},
   "outputs": [
    {
     "data": {
      "text/plain": [
       "2423507129472"
      ]
     },
     "execution_count": 45,
     "metadata": {},
     "output_type": "execute_result"
    }
   ],
   "source": [
    "id(x)"
   ]
  },
  {
   "cell_type": "code",
   "execution_count": 46,
   "id": "9c55a062-f8f0-4d6a-9da6-2f0fd50605df",
   "metadata": {},
   "outputs": [],
   "source": [
    "x = 3"
   ]
  },
  {
   "cell_type": "code",
   "execution_count": 47,
   "id": "e8b94485-f771-403c-a935-28534e635306",
   "metadata": {},
   "outputs": [
    {
     "data": {
      "text/plain": [
       "2423365658992"
      ]
     },
     "execution_count": 47,
     "metadata": {},
     "output_type": "execute_result"
    }
   ],
   "source": [
    "id(x)"
   ]
  },
  {
   "cell_type": "code",
   "execution_count": 48,
   "id": "8b8bc0d5-3320-4fb1-b796-5f640bf86c87",
   "metadata": {},
   "outputs": [
    {
     "name": "stdout",
     "output_type": "stream",
     "text": [
      "2423498588544 [1, 2, 3]\n"
     ]
    }
   ],
   "source": [
    "x = [1, 2, 3]\n",
    "print(id(x), x)"
   ]
  },
  {
   "cell_type": "code",
   "execution_count": 49,
   "id": "ee6cb939-2ecb-4289-98f8-238d161c96b5",
   "metadata": {},
   "outputs": [
    {
     "name": "stdout",
     "output_type": "stream",
     "text": [
      "2423498588544 [2, 2, 3]\n"
     ]
    }
   ],
   "source": [
    "x[0] = 2 \n",
    "print(id(x), x)"
   ]
  },
  {
   "cell_type": "code",
   "execution_count": 50,
   "id": "62d851cb-de7a-48ab-a63f-aa666332d894",
   "metadata": {},
   "outputs": [],
   "source": [
    "y = x"
   ]
  },
  {
   "cell_type": "code",
   "execution_count": 51,
   "id": "7711bdd0-e06b-4f39-b4fd-9e883a07e0ff",
   "metadata": {},
   "outputs": [
    {
     "data": {
      "text/plain": [
       "[2, 2, 3]"
      ]
     },
     "execution_count": 51,
     "metadata": {},
     "output_type": "execute_result"
    }
   ],
   "source": [
    "y"
   ]
  },
  {
   "cell_type": "code",
   "execution_count": 52,
   "id": "8c8138ab-3454-41f6-87b3-06da1a061028",
   "metadata": {},
   "outputs": [],
   "source": [
    "x[1] = 5"
   ]
  },
  {
   "cell_type": "code",
   "execution_count": 53,
   "id": "c2515850-a11e-4e4b-ad43-6b07692bc0ae",
   "metadata": {},
   "outputs": [
    {
     "data": {
      "text/plain": [
       "[2, 5, 3]"
      ]
     },
     "execution_count": 53,
     "metadata": {},
     "output_type": "execute_result"
    }
   ],
   "source": [
    "x"
   ]
  },
  {
   "cell_type": "code",
   "execution_count": 54,
   "id": "bc3abe0a-861c-4438-9687-43e1d3c6dd00",
   "metadata": {},
   "outputs": [
    {
     "data": {
      "text/plain": [
       "[2, 5, 3]"
      ]
     },
     "execution_count": 54,
     "metadata": {},
     "output_type": "execute_result"
    }
   ],
   "source": [
    "y"
   ]
  },
  {
   "cell_type": "code",
   "execution_count": 55,
   "id": "2f4d3fc5-4cf4-4c6c-b07a-1e60fba51c07",
   "metadata": {},
   "outputs": [
    {
     "data": {
      "text/plain": [
       "2423498588544"
      ]
     },
     "execution_count": 55,
     "metadata": {},
     "output_type": "execute_result"
    }
   ],
   "source": [
    "id(y)"
   ]
  },
  {
   "cell_type": "markdown",
   "id": "d680d5a0-0a1c-48a3-b669-8188b074f8fb",
   "metadata": {
    "user_expressions": []
   },
   "source": [
    "## 列表删除"
   ]
  },
  {
   "cell_type": "raw",
   "id": "3d0f561d-9e0b-469c-9d4f-9b4509c742e8",
   "metadata": {},
   "source": [
    "判断题：使用列表对象的 remove()方法可以删除列表中首次出现的指定元素，如果列中不存在要删除的指定元素则抛出异常。（）\n",
    "答案：正确\n",
    "解析：对于系统默认的方法自己操作一下就好"
   ]
  },
  {
   "cell_type": "code",
   "execution_count": 56,
   "id": "e7a71add-472b-4e56-a615-fef53cdefe87",
   "metadata": {},
   "outputs": [],
   "source": [
    "x = [1, 2, 3, 4, 2]"
   ]
  },
  {
   "cell_type": "code",
   "execution_count": 57,
   "id": "2971c2a5-6ae6-4558-80fc-17f691b8599a",
   "metadata": {},
   "outputs": [],
   "source": [
    "x.remove(2)"
   ]
  },
  {
   "cell_type": "code",
   "execution_count": 58,
   "id": "ffb65a3b-6845-47ae-b520-1b7228688845",
   "metadata": {},
   "outputs": [
    {
     "data": {
      "text/plain": [
       "[1, 3, 4, 2]"
      ]
     },
     "execution_count": 58,
     "metadata": {},
     "output_type": "execute_result"
    }
   ],
   "source": [
    "x"
   ]
  },
  {
   "cell_type": "code",
   "execution_count": 59,
   "id": "e3b4fa8c-1f9a-4a7e-8de5-e7919c507d2b",
   "metadata": {},
   "outputs": [],
   "source": [
    "x.remove(2)"
   ]
  },
  {
   "cell_type": "code",
   "execution_count": 60,
   "id": "0659d9ae-e34a-4831-b386-499f9444e20f",
   "metadata": {},
   "outputs": [
    {
     "data": {
      "text/plain": [
       "[1, 3, 4]"
      ]
     },
     "execution_count": 60,
     "metadata": {},
     "output_type": "execute_result"
    }
   ],
   "source": [
    "x"
   ]
  },
  {
   "cell_type": "code",
   "execution_count": 61,
   "id": "de4a005c-8054-400e-bca7-b86502707415",
   "metadata": {},
   "outputs": [
    {
     "ename": "ValueError",
     "evalue": "list.remove(x): x not in list",
     "output_type": "error",
     "traceback": [
      "\u001b[1;31m---------------------------------------------------------------------------\u001b[0m",
      "\u001b[1;31mValueError\u001b[0m                                Traceback (most recent call last)",
      "\u001b[1;32m~\\AppData\\Local\\Temp/ipykernel_140392/3383203580.py\u001b[0m in \u001b[0;36m<module>\u001b[1;34m\u001b[0m\n\u001b[1;32m----> 1\u001b[1;33m \u001b[0mx\u001b[0m\u001b[1;33m.\u001b[0m\u001b[0mremove\u001b[0m\u001b[1;33m(\u001b[0m\u001b[1;36m5\u001b[0m\u001b[1;33m)\u001b[0m\u001b[1;33m\u001b[0m\u001b[1;33m\u001b[0m\u001b[0m\n\u001b[0m",
      "\u001b[1;31mValueError\u001b[0m: list.remove(x): x not in list"
     ]
    }
   ],
   "source": [
    "x.remove(5)"
   ]
  },
  {
   "cell_type": "code",
   "execution_count": 63,
   "id": "42c972ca-6103-4575-972d-b59dfacb64df",
   "metadata": {},
   "outputs": [],
   "source": [
    "del x"
   ]
  },
  {
   "cell_type": "code",
   "execution_count": 64,
   "id": "68a6b994-d2c6-4c4c-a3c1-a20def430dc3",
   "metadata": {},
   "outputs": [
    {
     "ename": "NameError",
     "evalue": "name 'x' is not defined",
     "output_type": "error",
     "traceback": [
      "\u001b[1;31m---------------------------------------------------------------------------\u001b[0m",
      "\u001b[1;31mNameError\u001b[0m                                 Traceback (most recent call last)",
      "\u001b[1;32m~\\AppData\\Local\\Temp/ipykernel_140392/32546335.py\u001b[0m in \u001b[0;36m<module>\u001b[1;34m\u001b[0m\n\u001b[1;32m----> 1\u001b[1;33m \u001b[0mx\u001b[0m\u001b[1;33m\u001b[0m\u001b[1;33m\u001b[0m\u001b[0m\n\u001b[0m",
      "\u001b[1;31mNameError\u001b[0m: name 'x' is not defined"
     ]
    }
   ],
   "source": [
    "x"
   ]
  },
  {
   "cell_type": "markdown",
   "id": "52c181e1-b31b-44c0-9253-42455bc34a11",
   "metadata": {
    "user_expressions": []
   },
   "source": [
    "## 列表解析"
   ]
  },
  {
   "cell_type": "raw",
   "id": "0ed2cbe6-db76-4bca-bdae-fb9ea8feaff7",
   "metadata": {},
   "source": [
    "判断题：在Python中语句 print(*[1,2,3]) 不能正确执行。（）\n",
    "答案：错误\n",
    "解析：对于系统默认的方法自己操作一下就好"
   ]
  },
  {
   "cell_type": "code",
   "execution_count": 65,
   "id": "58b72a7f-aba7-4cf4-b39d-e8e61758908f",
   "metadata": {},
   "outputs": [],
   "source": [
    "x = [1, 2, 3, 4, 2]"
   ]
  },
  {
   "cell_type": "code",
   "execution_count": 66,
   "id": "aec9579f-9324-430c-a935-943dd6b9ad66",
   "metadata": {},
   "outputs": [
    {
     "ename": "SyntaxError",
     "evalue": "can't use starred expression here (Temp/ipykernel_140392/2180722493.py, line 1)",
     "output_type": "error",
     "traceback": [
      "\u001b[1;36m  File \u001b[1;32m\"C:\\Users\\lyf\\AppData\\Local\\Temp/ipykernel_140392/2180722493.py\"\u001b[1;36m, line \u001b[1;32m1\u001b[0m\n\u001b[1;33m    *x\u001b[0m\n\u001b[1;37m    ^\u001b[0m\n\u001b[1;31mSyntaxError\u001b[0m\u001b[1;31m:\u001b[0m can't use starred expression here\n"
     ]
    }
   ],
   "source": [
    "*x"
   ]
  },
  {
   "cell_type": "code",
   "execution_count": 67,
   "id": "5bc95e9e-c2a9-4258-b873-e932bbcd8adf",
   "metadata": {},
   "outputs": [
    {
     "name": "stdout",
     "output_type": "stream",
     "text": [
      "1 2 3 4 2\n"
     ]
    }
   ],
   "source": [
    "print(*x)"
   ]
  },
  {
   "cell_type": "code",
   "execution_count": 70,
   "id": "f43e8d1f-c627-4e2e-b7b5-e771c15bd324",
   "metadata": {},
   "outputs": [],
   "source": [
    "def star(a,b,c,d,e):\n",
    "    return e"
   ]
  },
  {
   "cell_type": "code",
   "execution_count": 71,
   "id": "716e50be-17f5-41cb-bd5e-6bd8a9a7f7eb",
   "metadata": {},
   "outputs": [
    {
     "data": {
      "text/plain": [
       "2"
      ]
     },
     "execution_count": 71,
     "metadata": {},
     "output_type": "execute_result"
    }
   ],
   "source": [
    "star(*x)"
   ]
  },
  {
   "cell_type": "markdown",
   "id": "65efe93a-8984-4319-a9c7-89fd86fee2f2",
   "metadata": {
    "user_expressions": []
   },
   "source": [
    "## 一行表达"
   ]
  },
  {
   "cell_type": "raw",
   "id": "f18b2709-3a4e-411d-993d-2ef07aeac9c3",
   "metadata": {},
   "source": [
    "判断题：表达式(i**2 for i in range(100))的结果是个元组。（）\n",
    "答案：错误\n",
    "解析：生成的结果类型为generator，这个其实也是一个迭代器，可以用来for循环输出。实际写代码中我们会更常用在外面用[]，这样的代码很简洁，也是Python这个语言独有的特性。"
   ]
  },
  {
   "cell_type": "code",
   "execution_count": 72,
   "id": "ebdc3b62-00ca-4f80-87e5-498358019d64",
   "metadata": {},
   "outputs": [
    {
     "data": {
      "text/plain": [
       "<generator object <genexpr> at 0x0000023446449270>"
      ]
     },
     "execution_count": 72,
     "metadata": {},
     "output_type": "execute_result"
    }
   ],
   "source": [
    "a = (i**2 for i in range(10))\n",
    "a "
   ]
  },
  {
   "cell_type": "code",
   "execution_count": 73,
   "id": "8fe025ed-fe73-401c-9f9f-112c4bb47ad4",
   "metadata": {},
   "outputs": [
    {
     "name": "stdout",
     "output_type": "stream",
     "text": [
      "0\n",
      "1\n",
      "4\n",
      "9\n",
      "16\n",
      "25\n",
      "36\n",
      "49\n",
      "64\n",
      "81\n"
     ]
    }
   ],
   "source": [
    "for i in a:\n",
    "    print(i)"
   ]
  },
  {
   "cell_type": "code",
   "execution_count": 74,
   "id": "131c6c76-77f3-4d78-9d05-fef848059b73",
   "metadata": {},
   "outputs": [
    {
     "data": {
      "text/plain": [
       "[0, 1, 4, 9, 16, 25, 36, 49, 64, 81]"
      ]
     },
     "execution_count": 74,
     "metadata": {},
     "output_type": "execute_result"
    }
   ],
   "source": [
    "b = [i**2 for i in range(10)]\n",
    "b"
   ]
  },
  {
   "cell_type": "markdown",
   "id": "68397c48-c2f9-4b60-8835-9a4c255948b4",
   "metadata": {
    "user_expressions": []
   },
   "source": [
    "## 集合计算"
   ]
  },
  {
   "cell_type": "raw",
   "id": "c062c2dd-af87-4cdc-bba0-37b0368106d8",
   "metadata": {},
   "source": [
    "判断题：运算符“-”可以用于集合的差集运算。（）\n",
    "答案：正确\n",
    "解析：差集可以用-，但是并集、交集等其他操作就需要用自身的方法了"
   ]
  },
  {
   "cell_type": "code",
   "execution_count": 75,
   "id": "b8d36f37-5ed4-4502-b1d3-6345ad108b70",
   "metadata": {},
   "outputs": [
    {
     "data": {
      "text/plain": [
       "{1, 2}"
      ]
     },
     "execution_count": 75,
     "metadata": {},
     "output_type": "execute_result"
    }
   ],
   "source": [
    "{1, 2, 3} - {3, 4}"
   ]
  },
  {
   "cell_type": "code",
   "execution_count": 76,
   "id": "352388f3-a6aa-42a2-91a4-a33703d40ab4",
   "metadata": {},
   "outputs": [
    {
     "ename": "TypeError",
     "evalue": "unsupported operand type(s) for +: 'set' and 'set'",
     "output_type": "error",
     "traceback": [
      "\u001b[1;31m---------------------------------------------------------------------------\u001b[0m",
      "\u001b[1;31mTypeError\u001b[0m                                 Traceback (most recent call last)",
      "\u001b[1;32m~\\AppData\\Local\\Temp/ipykernel_140392/2005149140.py\u001b[0m in \u001b[0;36m<module>\u001b[1;34m\u001b[0m\n\u001b[1;32m----> 1\u001b[1;33m \u001b[1;33m{\u001b[0m\u001b[1;36m1\u001b[0m\u001b[1;33m,\u001b[0m \u001b[1;36m2\u001b[0m\u001b[1;33m,\u001b[0m \u001b[1;36m3\u001b[0m\u001b[1;33m}\u001b[0m \u001b[1;33m+\u001b[0m \u001b[1;33m{\u001b[0m\u001b[1;36m3\u001b[0m\u001b[1;33m,\u001b[0m \u001b[1;36m4\u001b[0m\u001b[1;33m}\u001b[0m\u001b[1;33m\u001b[0m\u001b[1;33m\u001b[0m\u001b[0m\n\u001b[0m",
      "\u001b[1;31mTypeError\u001b[0m: unsupported operand type(s) for +: 'set' and 'set'"
     ]
    }
   ],
   "source": [
    "{1, 2, 3} + {3, 4}"
   ]
  },
  {
   "cell_type": "code",
   "execution_count": 77,
   "id": "9c75f62c-3298-4a52-9b58-9a57aaa31fb7",
   "metadata": {},
   "outputs": [
    {
     "data": {
      "text/plain": [
       "{1, 2, 3, 4}"
      ]
     },
     "execution_count": 77,
     "metadata": {},
     "output_type": "execute_result"
    }
   ],
   "source": [
    "{1, 2, 3}.union({3, 4})"
   ]
  },
  {
   "cell_type": "markdown",
   "id": "c2255c6d-49b5-4bd3-a766-807cc6bde8f8",
   "metadata": {
    "user_expressions": []
   },
   "source": [
    "## 列表切片"
   ]
  },
  {
   "cell_type": "raw",
   "id": "03fac001-49bd-41ac-9812-0994d93ca806",
   "metadata": {},
   "source": [
    "单选题：下程序的输出结果是：\n",
    "    a = [“a”,“b”,“c”]\n",
    "    b = a[::-1]\n",
    "    print(b)\n",
    "答案：[‘c’, ‘b’, ‘a’]\n",
    "解析：熟悉列表的切片，第一个冒号左边表示从什么时候开始，右边表示什么时候结束，最后的-1表示步长是多少"
   ]
  },
  {
   "cell_type": "raw",
   "id": "4b9ba02e-7d43-42bd-9d56-d5ae7c1ebbfb",
   "metadata": {},
   "source": [
    "单选题：现有列表l=[1,2,3,4,5,6,7,8,9,0],那么执行l[1::2] 的结果是（）。\n",
    "答案：[2, 4, 6, 8, 0]\n",
    "解析：熟悉列表的切片，注意索引0是第一个数"
   ]
  },
  {
   "cell_type": "code",
   "execution_count": 78,
   "id": "a7252f5a-bed4-4c4e-909a-87998ac6e147",
   "metadata": {},
   "outputs": [],
   "source": [
    "a = [\"a\", \"b\", \"c\"]"
   ]
  },
  {
   "cell_type": "code",
   "execution_count": 82,
   "id": "d29f12b2-a55e-41ed-b47a-0e21bfae98c6",
   "metadata": {},
   "outputs": [
    {
     "data": {
      "text/plain": [
       "'b'"
      ]
     },
     "execution_count": 82,
     "metadata": {},
     "output_type": "execute_result"
    }
   ],
   "source": [
    "a[1]"
   ]
  },
  {
   "cell_type": "code",
   "execution_count": 83,
   "id": "5b3a38e4-498d-45c9-a893-bcfb6088a30e",
   "metadata": {},
   "outputs": [
    {
     "data": {
      "text/plain": [
       "['a', 'b']"
      ]
     },
     "execution_count": 83,
     "metadata": {},
     "output_type": "execute_result"
    }
   ],
   "source": [
    "a[0:2]"
   ]
  },
  {
   "cell_type": "code",
   "execution_count": 79,
   "id": "48e501df-010f-474e-bdce-065da0ab12b4",
   "metadata": {},
   "outputs": [],
   "source": [
    "b = a[::-1]"
   ]
  },
  {
   "cell_type": "code",
   "execution_count": 84,
   "id": "5fe4cad7-a770-4676-8570-30a94bcba53e",
   "metadata": {},
   "outputs": [
    {
     "data": {
      "text/plain": [
       "['c', 'b', 'a']"
      ]
     },
     "execution_count": 84,
     "metadata": {},
     "output_type": "execute_result"
    }
   ],
   "source": [
    "b"
   ]
  },
  {
   "cell_type": "code",
   "execution_count": 85,
   "id": "9e2027a1-ed05-455a-9fef-aacf9b0896a3",
   "metadata": {},
   "outputs": [],
   "source": [
    "x = [1,2,3,4,5,6,7,8,9,0]"
   ]
  },
  {
   "cell_type": "code",
   "execution_count": 87,
   "id": "258cca21-939d-486f-9713-c3133800d46b",
   "metadata": {},
   "outputs": [
    {
     "data": {
      "text/plain": [
       "[1, 3, 5, 7, 9]"
      ]
     },
     "execution_count": 87,
     "metadata": {},
     "output_type": "execute_result"
    }
   ],
   "source": [
    "x[::2]"
   ]
  },
  {
   "cell_type": "code",
   "execution_count": 86,
   "id": "6497427b-6487-4493-ba6e-f4450c3233d9",
   "metadata": {},
   "outputs": [
    {
     "data": {
      "text/plain": [
       "[2, 4, 6, 8, 0]"
      ]
     },
     "execution_count": 86,
     "metadata": {},
     "output_type": "execute_result"
    }
   ],
   "source": [
    "x[1::2] "
   ]
  },
  {
   "cell_type": "code",
   "execution_count": 88,
   "id": "16cbfaa3-a2b0-4ed2-b1ac-654910c2c07d",
   "metadata": {},
   "outputs": [
    {
     "data": {
      "text/plain": [
       "[3, 5, 7]"
      ]
     },
     "execution_count": 88,
     "metadata": {},
     "output_type": "execute_result"
    }
   ],
   "source": [
    "x[2:8:2]"
   ]
  },
  {
   "cell_type": "markdown",
   "id": "406cb64b-e120-410d-9dd4-cd6ff4e3296a",
   "metadata": {
    "user_expressions": []
   },
   "source": [
    "## 列表相加"
   ]
  },
  {
   "cell_type": "raw",
   "id": "0cffa392-04ed-4a0d-98d9-a7a0a5d48f9d",
   "metadata": {},
   "source": [
    "单选题：如下代码输出结果：\n",
    "    lst1=[1,2,3]\n",
    "    lst2=[4,5,6]\n",
    "    lst1+lst2\n",
    "答案：[1,2,3,4,5,6]\n",
    "解析：熟悉列表的加法和扩展"
   ]
  },
  {
   "cell_type": "code",
   "execution_count": 89,
   "id": "e6dd17ad-678f-41b7-b616-2ddfe27b54c0",
   "metadata": {},
   "outputs": [
    {
     "data": {
      "text/plain": [
       "[1, 2, 3, 4, 5, 6]"
      ]
     },
     "execution_count": 89,
     "metadata": {},
     "output_type": "execute_result"
    }
   ],
   "source": [
    "lst1=[1,2,3]\n",
    "lst2=[4,5,6]\n",
    "lst1+lcst2"
   ]
  },
  {
   "cell_type": "code",
   "execution_count": 90,
   "id": "463a5264-a2c9-4f3e-8623-40331acda541",
   "metadata": {},
   "outputs": [],
   "source": [
    "lst1.extend(lst2)"
   ]
  },
  {
   "cell_type": "code",
   "execution_count": 91,
   "id": "bf1e2f60-5bac-429b-be93-c810543a159b",
   "metadata": {},
   "outputs": [
    {
     "data": {
      "text/plain": [
       "[1, 2, 3, 4, 5, 6]"
      ]
     },
     "execution_count": 91,
     "metadata": {},
     "output_type": "execute_result"
    }
   ],
   "source": [
    "lst1"
   ]
  },
  {
   "cell_type": "code",
   "execution_count": 92,
   "id": "6ffe5a25-73d3-4383-9ab7-41dab159d620",
   "metadata": {},
   "outputs": [],
   "source": [
    "lst1.append(100)"
   ]
  },
  {
   "cell_type": "code",
   "execution_count": 93,
   "id": "01a9ff6b-6ded-4060-946f-a7db71162ec2",
   "metadata": {},
   "outputs": [
    {
     "data": {
      "text/plain": [
       "[1, 2, 3, 4, 5, 6, 100]"
      ]
     },
     "execution_count": 93,
     "metadata": {},
     "output_type": "execute_result"
    }
   ],
   "source": [
    "lst1"
   ]
  },
  {
   "cell_type": "code",
   "execution_count": 94,
   "id": "1c2c5fb3-6cf9-4e87-b757-db25f9928c14",
   "metadata": {},
   "outputs": [],
   "source": [
    "lst1.append([4,5,6])"
   ]
  },
  {
   "cell_type": "code",
   "execution_count": 95,
   "id": "8b496f8e-6719-41a1-a441-6a6b40f78da6",
   "metadata": {},
   "outputs": [
    {
     "data": {
      "text/plain": [
       "[1, 2, 3, 4, 5, 6, 100, [4, 5, 6]]"
      ]
     },
     "execution_count": 95,
     "metadata": {},
     "output_type": "execute_result"
    }
   ],
   "source": [
    "lst1"
   ]
  },
  {
   "cell_type": "code",
   "execution_count": 96,
   "id": "49dafc4f-71de-4436-9927-d233c4020794",
   "metadata": {},
   "outputs": [
    {
     "data": {
      "text/plain": [
       "str"
      ]
     },
     "execution_count": 96,
     "metadata": {},
     "output_type": "execute_result"
    }
   ],
   "source": [
    "str"
   ]
  },
  {
   "cell_type": "code",
   "execution_count": 99,
   "id": "a701c3a6-2ed2-46a4-8580-f57ee75eb2fa",
   "metadata": {},
   "outputs": [
    {
     "data": {
      "text/plain": [
       "str"
      ]
     },
     "execution_count": 99,
     "metadata": {},
     "output_type": "execute_result"
    }
   ],
   "source": [
    "type('CGFT')"
   ]
  },
  {
   "cell_type": "markdown",
   "id": "21983563-990f-4b68-9f7a-eee338195840",
   "metadata": {
    "user_expressions": []
   },
   "source": [
    "# 面向对象"
   ]
  },
  {
   "cell_type": "markdown",
   "id": "da10aa90-8ee6-407a-92cf-461711fba9cd",
   "metadata": {
    "user_expressions": []
   },
   "source": [
    "## 函数返回"
   ]
  },
  {
   "cell_type": "raw",
   "id": "e3035e07-7045-4146-82ed-9b2ecbebee56",
   "metadata": {},
   "source": [
    "判断题：定义Python函数时必须指定函数返回值类型。（）\n",
    "答案：错误\n",
    "解析：函数可以返回为空"
   ]
  },
  {
   "cell_type": "raw",
   "id": "be32da22-78fa-4dff-9b24-fbe5005e4012",
   "metadata": {},
   "source": [
    "单选题：以下程序的输出结果是：\n",
    "    def f(s, x = 2.0,y = 4.0):\n",
    "           s += x * y\n",
    "    s = 10\n",
    "    print(s, f(s, 3))\n",
    "答案：10 None\n",
    "解析：注意函数内的变量赋值不影响原来的，除非是列表"
   ]
  },
  {
   "cell_type": "code",
   "execution_count": 102,
   "id": "39d3d971-9eff-44f5-9f5e-cc1d9a885081",
   "metadata": {},
   "outputs": [],
   "source": [
    "def fun_b(x:int)->int:\n",
    "    return x+1"
   ]
  },
  {
   "cell_type": "code",
   "execution_count": 100,
   "id": "f88adc72-52e8-4723-b7b5-87ee9bf150c0",
   "metadata": {},
   "outputs": [],
   "source": [
    "def fun_a(x):\n",
    "    return x+1"
   ]
  },
  {
   "cell_type": "code",
   "execution_count": 101,
   "id": "a38ed463-343a-4706-9d85-5e8150d5e6b8",
   "metadata": {},
   "outputs": [
    {
     "data": {
      "text/plain": [
       "6"
      ]
     },
     "execution_count": 101,
     "metadata": {},
     "output_type": "execute_result"
    }
   ],
   "source": [
    "fun_a(5)"
   ]
  },
  {
   "cell_type": "code",
   "execution_count": 103,
   "id": "688ee60c-557b-40f0-824a-510ed1878c80",
   "metadata": {},
   "outputs": [
    {
     "data": {
      "text/plain": [
       "6"
      ]
     },
     "execution_count": 103,
     "metadata": {},
     "output_type": "execute_result"
    }
   ],
   "source": [
    "fun_b(5)"
   ]
  },
  {
   "cell_type": "code",
   "execution_count": 104,
   "id": "221be003-4753-4c91-9299-dcc9f3ba952b",
   "metadata": {},
   "outputs": [],
   "source": [
    "def f(s, x = 2.0,y = 4.0):\n",
    "       s += x * y\n",
    "s = 10"
   ]
  },
  {
   "cell_type": "code",
   "execution_count": 106,
   "id": "53f7efa7-4afd-4573-8986-4c5701a799b1",
   "metadata": {},
   "outputs": [],
   "source": [
    "f(s, 3)"
   ]
  },
  {
   "cell_type": "code",
   "execution_count": 107,
   "id": "9ad11be6-a1be-4a89-a89d-cf58613d5a8e",
   "metadata": {},
   "outputs": [
    {
     "data": {
      "text/plain": [
       "True"
      ]
     },
     "execution_count": 107,
     "metadata": {},
     "output_type": "execute_result"
    }
   ],
   "source": [
    "f(s, 3) == None "
   ]
  },
  {
   "cell_type": "code",
   "execution_count": 108,
   "id": "f0d1748d-367e-44f7-8ccb-70c1a0b19e3b",
   "metadata": {},
   "outputs": [],
   "source": [
    "def fun_b(x):\n",
    "    x += 1"
   ]
  },
  {
   "cell_type": "code",
   "execution_count": 109,
   "id": "a1463bfd-580d-4956-b0b1-99ddb0e32cca",
   "metadata": {},
   "outputs": [],
   "source": [
    "a = 1"
   ]
  },
  {
   "cell_type": "code",
   "execution_count": 110,
   "id": "4342d1e8-8ebb-404c-9939-e422e997d1b8",
   "metadata": {},
   "outputs": [],
   "source": [
    "fun_b(a)"
   ]
  },
  {
   "cell_type": "code",
   "execution_count": 111,
   "id": "400824e3-0f78-4832-a572-a8e32e8a9225",
   "metadata": {},
   "outputs": [
    {
     "data": {
      "text/plain": [
       "1"
      ]
     },
     "execution_count": 111,
     "metadata": {},
     "output_type": "execute_result"
    }
   ],
   "source": [
    "a"
   ]
  },
  {
   "cell_type": "markdown",
   "id": "48a4af9e-ce27-4bb7-80ca-523bd30aa442",
   "metadata": {
    "tags": [],
    "user_expressions": []
   },
   "source": [
    "## 私有对象"
   ]
  },
  {
   "cell_type": "raw",
   "id": "3254efad-b966-46ea-aeeb-4df1120e0468",
   "metadata": {},
   "source": [
    "判断题：对于Python类中的私有成员，可以通过“对象名._类名__私有成员名”的方式来访问。（）\n",
    "答案：正确\n",
    "解析：私有成员可以用内部的函数访问，或者用题目的方法，这也证明了Python没有真正意义的私有，很多限制也是不存在的，所以工程上Python会比较弱。这道题打印的时候可能会因为两个下划线打出空，要能get到题目的意思。"
   ]
  },
  {
   "cell_type": "code",
   "execution_count": 112,
   "id": "a6eb7434-6e28-4f63-aefd-fea7ba7323d3",
   "metadata": {},
   "outputs": [],
   "source": [
    "class Someone:\n",
    "    def __init__(self):\n",
    "        self.__name = 'liyifan'\n",
    "    def secret(self):\n",
    "        print(self.__name)"
   ]
  },
  {
   "cell_type": "code",
   "execution_count": 113,
   "id": "4929306a-671e-4ee4-82cb-f2a712cdc13e",
   "metadata": {},
   "outputs": [],
   "source": [
    "s1 = Someone()"
   ]
  },
  {
   "cell_type": "code",
   "execution_count": 114,
   "id": "424e2659-45b0-4a8f-bd12-310f8a446dc2",
   "metadata": {},
   "outputs": [
    {
     "ename": "AttributeError",
     "evalue": "'Someone' object has no attribute '__name'",
     "output_type": "error",
     "traceback": [
      "\u001b[1;31m---------------------------------------------------------------------------\u001b[0m",
      "\u001b[1;31mAttributeError\u001b[0m                            Traceback (most recent call last)",
      "\u001b[1;32m~\\AppData\\Local\\Temp/ipykernel_140392/2545428225.py\u001b[0m in \u001b[0;36m<module>\u001b[1;34m\u001b[0m\n\u001b[1;32m----> 1\u001b[1;33m \u001b[0ms1\u001b[0m\u001b[1;33m.\u001b[0m\u001b[0m__name\u001b[0m\u001b[1;33m\u001b[0m\u001b[1;33m\u001b[0m\u001b[0m\n\u001b[0m",
      "\u001b[1;31mAttributeError\u001b[0m: 'Someone' object has no attribute '__name'"
     ]
    }
   ],
   "source": [
    "s1.__name"
   ]
  },
  {
   "cell_type": "code",
   "execution_count": 115,
   "id": "83dc42b2-6bba-4403-ae5b-7e0c07efc22d",
   "metadata": {},
   "outputs": [
    {
     "name": "stdout",
     "output_type": "stream",
     "text": [
      "liyifan\n"
     ]
    }
   ],
   "source": [
    "s1.secret()"
   ]
  },
  {
   "cell_type": "code",
   "execution_count": 116,
   "id": "fe5822be-c7a7-4aeb-8610-6dea316cdf67",
   "metadata": {},
   "outputs": [
    {
     "data": {
      "text/plain": [
       "'liyifan'"
      ]
     },
     "execution_count": 116,
     "metadata": {},
     "output_type": "execute_result"
    }
   ],
   "source": [
    "s1._Someone__name"
   ]
  },
  {
   "cell_type": "markdown",
   "id": "022b278d-72a9-4822-94d0-3d9c10b801ff",
   "metadata": {
    "tags": [],
    "user_expressions": []
   },
   "source": [
    "## 函数闭包"
   ]
  },
  {
   "cell_type": "raw",
   "id": "d3469c68-70b8-49f6-9d7b-7a9e29c1acfb",
   "metadata": {},
   "source": [
    "多选题：一个段代码定义如下，下列调用结果正确的是（）。\n",
    "    def bar(multiple):\n",
    "        def foo(n):\n",
    "            return multiple ** n\n",
    "        return foo\n",
    "答案：bar(2)(3) == 8\n",
    "     bar(2)(4) == 16\n",
    "解析：熟悉Python通过函数返回指定参数函数的闭包方法"
   ]
  },
  {
   "cell_type": "code",
   "execution_count": 119,
   "id": "2285aa0e-09f8-4c90-8253-085c2547714c",
   "metadata": {},
   "outputs": [],
   "source": [
    "def bar(multiple):\n",
    "    def foo(n):\n",
    "        return multiple ** n\n",
    "    return foo"
   ]
  },
  {
   "cell_type": "code",
   "execution_count": 118,
   "id": "43e3acca-9209-41b3-8dd4-a493b3b54803",
   "metadata": {},
   "outputs": [
    {
     "data": {
      "text/plain": [
       "8"
      ]
     },
     "execution_count": 118,
     "metadata": {},
     "output_type": "execute_result"
    }
   ],
   "source": [
    "bar(2)(3)"
   ]
  },
  {
   "cell_type": "code",
   "execution_count": 122,
   "id": "9dbd8a21-2ce5-4c64-bc0e-727742fafba9",
   "metadata": {},
   "outputs": [],
   "source": [
    "fun2 = bar(3)"
   ]
  },
  {
   "cell_type": "code",
   "execution_count": 123,
   "id": "c7ae1252-6081-4818-b3a6-dfa480b0a802",
   "metadata": {},
   "outputs": [
    {
     "data": {
      "text/plain": [
       "27"
      ]
     },
     "execution_count": 123,
     "metadata": {},
     "output_type": "execute_result"
    }
   ],
   "source": [
    "fun2(3)"
   ]
  },
  {
   "cell_type": "markdown",
   "id": "0b3b852b-2578-4db2-850b-8906fa9bfd8a",
   "metadata": {
    "user_expressions": []
   },
   "source": [
    "# 第三方包"
   ]
  },
  {
   "cell_type": "markdown",
   "id": "035c30e5-11cf-4f42-bc1f-6d4089aab52d",
   "metadata": {
    "user_expressions": []
   },
   "source": [
    "## Numpy的矩阵"
   ]
  },
  {
   "cell_type": "raw",
   "id": "7430a4b7-0e8e-40fc-9569-f1d284a4abbb",
   "metadata": {},
   "source": [
    "多选题：如下哪个语句能够生成一个n*n的正方形矩阵，对角线值为1，其余位置值为0。\n",
    "答案：np.eye(n)\n",
    "解析：熟悉numpy的矩阵方法"
   ]
  },
  {
   "cell_type": "code",
   "execution_count": 124,
   "id": "6b9d07ce-3692-4a77-a6aa-ebdb703a85c6",
   "metadata": {},
   "outputs": [],
   "source": [
    "import numpy as np"
   ]
  },
  {
   "cell_type": "code",
   "execution_count": 125,
   "id": "9fb5db77-0409-47d5-b2b5-ce62d2a886f5",
   "metadata": {},
   "outputs": [
    {
     "data": {
      "text/plain": [
       "array([[1., 0., 0.],\n",
       "       [0., 1., 0.],\n",
       "       [0., 0., 1.]])"
      ]
     },
     "execution_count": 125,
     "metadata": {},
     "output_type": "execute_result"
    }
   ],
   "source": [
    "np.eye(N=3)"
   ]
  },
  {
   "cell_type": "code",
   "execution_count": null,
   "id": "01726c99-1205-4dba-ae1f-39a7f199fb5c",
   "metadata": {},
   "outputs": [],
   "source": [
    "np.ones(shape=(3,3))"
   ]
  },
  {
   "cell_type": "code",
   "execution_count": null,
   "id": "0fe0f6b3-a39d-4c12-97e7-c1fb1ac11407",
   "metadata": {},
   "outputs": [],
   "source": [
    "np.zeros(shape=(3,3))"
   ]
  },
  {
   "cell_type": "markdown",
   "id": "ba4873d8-784f-4b84-a68f-c3d0e27bd957",
   "metadata": {
    "user_expressions": []
   },
   "source": [
    "# 推荐材料"
   ]
  },
  {
   "cell_type": "raw",
   "id": "e99dc82b-87bc-4cb7-bc68-0312def3ffd4",
   "metadata": {
    "user_expressions": []
   },
   "source": [
    "- 用法字典：https://www.runoob.com/python3/python3-tutorial.html\n",
    "- 金融入门Python：斯文老师《基于Python的金融分析与风险管理》\n",
    "- 个人B站：AFAN的费曼生活 https://www.bilibili.com/video/BV1B44y1P7Je/"
   ]
  }
 ],
 "metadata": {
  "kernelspec": {
   "display_name": "Python 3 (ipykernel)",
   "language": "python",
   "name": "python3"
  },
  "language_info": {
   "codemirror_mode": {
    "name": "ipython",
    "version": 3
   },
   "file_extension": ".py",
   "mimetype": "text/x-python",
   "name": "python",
   "nbconvert_exporter": "python",
   "pygments_lexer": "ipython3",
   "version": "3.9.7"
  },
  "toc-autonumbering": true
 },
 "nbformat": 4,
 "nbformat_minor": 5
}
